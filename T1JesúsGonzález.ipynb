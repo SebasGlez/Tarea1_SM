{
 "cells": [
  {
   "cell_type": "markdown",
   "metadata": {},
   "source": [
    "# Presentación personal"
   ]
  },
  {
   "cell_type": "markdown",
   "metadata": {},
   "source": [
    "Mi nombre es Jesús Sebastián González Ortiz y estudio la carrera de Ingeniería Financiera en el ITESO. Nací el 1 de mayo del 2000 en Puerto Vallarta y viví ahí toda mi vida hasta venirme a Guadalajara a estudiar. Soy estudiante de la carrera de Ingeniería Financiera en la universiad ITESO y acabo de finalizar el segundo semestre de la carrera. Me gusta mucho jugar videojuegos y salir con amigos."
   ]
  }
 ],
 "metadata": {
  "kernelspec": {
   "display_name": "Python 3",
   "language": "python",
   "name": "python3"
  },
  "language_info": {
   "codemirror_mode": {
    "name": "ipython",
    "version": 3
   },
   "file_extension": ".py",
   "mimetype": "text/x-python",
   "name": "python",
   "nbconvert_exporter": "python",
   "pygments_lexer": "ipython3",
   "version": "3.7.3"
  }
 },
 "nbformat": 4,
 "nbformat_minor": 2
}
