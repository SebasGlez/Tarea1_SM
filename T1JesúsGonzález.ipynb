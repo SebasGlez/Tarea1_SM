{
 "cells": [
  {
   "cell_type": "markdown",
   "metadata": {},
   "source": [
    "# Presentación personal"
   ]
  },
  {
   "cell_type": "markdown",
   "metadata": {},
   "source": [
    "Mi nombre es Jesús Sebastián González Ortiz y estudio la carrera de Ingeniería Financiera en el ITESO. Nací el 1 de mayo del 2000 en Puerto Vallarta y viví ahí toda mi vida hasta venirme a Guadalajara a estudiar. Soy estudiante de la carrera de Ingeniería Financiera en la universiad ITESO y acabo de finalizar el segundo semestre de la carrera. Me gusta mucho jugar videojuegos y salir con amigos."
   ]
  },
  {
   "cell_type": "markdown",
   "metadata": {},
   "source": [
    "# Primer resumen"
   ]
  },
  {
   "cell_type": "markdown",
   "metadata": {},
   "source": [
    "Guido van Rossum, un científico en computación que desarrolló Python, nunca pensó en crear un lenguaje de programación que fuera consumido en masa por la gente. En los últimos 12 meses los estadounidenses han buscado en Google más Python que Kim Kardashian, que es una estrella de la televisión.\n",
    "\n",
    "  Las principales dos ventajas del legnuaje son su simplicidad y su flexibilidad. Su sintaxis e indentaciones lo hacen más fácil de aprender, leer y compartir. Seguidores del lenguaje, llamados Pythonistas, han subido más de 145,000 paquetes de software customizados por ellos que pueden ser insertados en Python en segundos por cualquiera. Todo esto hace que Pyhon se esté convirtiendo en el lenguaje de programación más famoso del mundo. ([Link](https://www.economist.com/graphic-detail/2018/07/26/python-is-becoming-the-worlds-most-popular-coding-language))"
   ]
  }
 ],
 "metadata": {
  "kernelspec": {
   "display_name": "Python 3",
   "language": "python",
   "name": "python3"
  },
  "language_info": {
   "codemirror_mode": {
    "name": "ipython",
    "version": 3
   },
   "file_extension": ".py",
   "mimetype": "text/x-python",
   "name": "python",
   "nbconvert_exporter": "python",
   "pygments_lexer": "ipython3",
   "version": "3.7.3"
  }
 },
 "nbformat": 4,
 "nbformat_minor": 2
}
